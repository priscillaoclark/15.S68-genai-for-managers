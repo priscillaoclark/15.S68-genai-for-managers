{
 "cells": [
  {
   "cell_type": "markdown",
   "metadata": {},
   "source": [
    "# Overview\n",
    "\n",
    "Description: This assignment builds off of the examples from Lecture 3 on understanding price\n",
    "gouging by leveraging AI agents. You will choose a new product idea: you can be as creative as\n",
    "you want or pick a product you’d be interested in forming a startup around / launching at an\n",
    "existing company. Then construct a focus group of AI agents to help inform your decision about\n",
    "whether to introduce the product, how to market it, how to deal with any concerns. The\n",
    "deliverables are a written report (just 1 page single spaced, or 2 double spaced), plus supporting\n",
    "materials and a Google Sheet summarizing your work. If you use ChatGPT please also include a\n",
    "shareable link to your prompting thread."
   ]
  },
  {
   "cell_type": "code",
   "execution_count": 11,
   "metadata": {},
   "outputs": [],
   "source": [
    "import os\n",
    "from openai import OpenAI\n",
    "import requests\n",
    "from IPython.display import display, Image\n"
   ]
  },
  {
   "cell_type": "markdown",
   "metadata": {},
   "source": [
    "# Part 1: Invention\n",
    "\n",
    "Invent a new product or service for some market you are interested in. It can be completely impractical or fantastical - or alternatively very relevant to your work. Perhaps make an image of your product if appropriate."
   ]
  },
  {
   "cell_type": "markdown",
   "metadata": {},
   "source": [
    "## Invent the product"
   ]
  },
  {
   "cell_type": "code",
   "execution_count": null,
   "metadata": {},
   "outputs": [
    {
     "name": "stdout",
     "output_type": "stream",
     "text": [
      "Product Idea: **Product Name:** PupStrings: Canine Guitar Learning Kit\n",
      "\n",
      "**Description:**\n",
      "PupStrings is a groundbreaking educational kit specifically designed to teach dogs the basics of playing the guitar. The kit features a specially designed multi-sensory guitar prototype adapted for canine anatomy, complete with paw-friendly strumming pads and scent-emitting fret markers. The learning experience is enhanced by an interactive app, offering video tutorials with a professional dog trainer and musician, and AI-driven feedback to monitor and guide the dog's progress.\n",
      "\n",
      "**Key Components:**\n",
      "1. **Canine-Adapted Guitar:** A lightweight, durable guitar with enlarged tactile strumming surfaces and vibration feedback to help dogs understand when a correct chord is played.\n",
      "   \n",
      "2. **Interactive Learning App:** This app connects via Bluetooth, providing step-by-step lessons, dynamic progress tracking, and customizable training schedules. It also offers an inclusive community for pet owners to share tips and stories.\n",
      "\n",
      "3. **Reward-Based Program:** Integrates with treat-dispensing technology to incentivize dogs as they reach learning milestones, reinforcing positive behavior through delicious rewards.\n",
      "\n",
      "4. **Scent-Emitting Fret Markers:** Specially developed to appeal to a dog's powerful sense of smell, these scented markers guide the dog’s paws to the correct strings, providing both tactile and olfactory cues for learning chords.\n",
      "\n",
      "5. **Eco-Friendly Design:** Made from sustainable materials, the guitar is not only eco-friendly but also chew-resistant, ensuring both safety and durability.\n",
      "\n",
      "**Target Market:**\n",
      "PupStrings primarily targets dog owners who are enthusiastic about enriching their pets' cognitive and physical activities. Ideal customers include pet owners with a passion for music, tech-savvy individuals who enjoy connecting their pets to smart devices, and those seeking innovative and interactive toys for their dogs.\n",
      "\n",
      "**Unique Selling Points:**\n",
      "- **Innovative Approach:** First of its kind to fuse musical training with pet-friendly technology.\n",
      "- **Multi-Sensory Learning:** Utilizes touch, sound, and scent to create a truly engaging learning experience for dogs.\n",
      "- **Smart Integration:** The integrated app and AI feedback provide a modern and novel way for dogs to interact with music, offering insights similar to human music classes.\n",
      "- **Enrichment and Bonding:** Strengthens the bond between pet and owner through shared musical activities and learning, while also enhancing the dog's cognitive skills and providing physical exercise.\n",
      "\n",
      "PupStrings offers an unforgettable experience, transforming the idea of dog training and entertainment while fostering a unique talent we didn't know our furry friends could possess!\n"
     ]
    }
   ],
   "source": [
    "# Define the prompt to generate a product idea\n",
    "product_prompt = \"\"\"\n",
    "Generate a creative and innovative product for teaching dogs how to learn to play guitar.\n",
    "Provide a brief description of the product, its target market, and its unique selling points.\n",
    "\"\"\"\n",
    "\n",
    "client = OpenAI(api_key=os.getenv(\"OPENAI_API_KEY\"))\n",
    "\n",
    "product_response = client.chat.completions.create(\n",
    "    model=\"gpt-4o\",\n",
    "    messages=[\n",
    "        {\"role\": \"user\", \"content\": product_prompt}\n",
    "    ],\n",
    "    temperature=1\n",
    ")\n",
    "\n",
    "product_idea = product_response.choices[0].message.content\n",
    "print(\"Product Idea:\", product_idea)"
   ]
  },
  {
   "cell_type": "markdown",
   "metadata": {},
   "source": [
    "## Create an image of the product"
   ]
  },
  {
   "cell_type": "code",
   "execution_count": null,
   "metadata": {},
   "outputs": [
    {
     "name": "stdout",
     "output_type": "stream",
     "text": [
      "Image Prompt: **Prompt for Image Generation:**\n",
      "\n",
      "Create an imaginative and engaging scene featuring the **PupStrings: Canine Guitar Learning Kit**. In the center of the image, showcase a cheerful corgi, eagerly engaged with the specially designed canine-adapted guitar. The guitar should be lightweight and visually appealing, with enlarged, colorful tactile strumming surfaces that are clearly visible. The body of the guitar is sleek and modern, constructed from eco-friendly materials, with a subtle texture that suggests durability and chew-resistance. \n",
      "\n",
      "Highlight the innovative scent-emitting fret markers by illustrating small, visible scent trails, perhaps in pastel colors, emanating from them, guiding the corgi's paws to the correct strings. Capture the moment when the corgi successfully strums a chord, with gentle vibration lines to indicate the feedback mechanism in action.\n",
      "\n",
      "In the background, feature a cozy and modern living room setting, where a tablet or smartphone is prominently displayed on a stand, showing the interface of the interactive learning app. The app screen should depict a friendly, animated dog trainer providing step-by-step video instructions, alongside progress tracking charts and encouraging feedback.\n",
      "\n",
      "Include a small, sleek treat-dispensing device nearby, releasing a treat as a reward for the corgi's successful chord play, reinforcing positive behavior. The treats should be visible in mid-air, adding a dynamic element to the scene.\n",
      "\n",
      "Incorporate subtle elements that emphasize the community aspect of the product, such as a bulletin board or digital screen showing user-shared photos of other dogs playing the guitar, accompanied by encouraging comments or tips.\n",
      "\n",
      "Emphasize warmth and joy in the overall ambiance of the image, using natural light streaming through a window to create a sense of an inviting and lively environment. Add small touches of musical notes floating around the corgi to symbolize the musical learning journey, enhancing the whimsical and innovative nature of the PupStrings experience.\n"
     ]
    }
   ],
   "source": [
    "image_prompt_generation_prompt = f\"\"\"\n",
    "Create a detailed prompt to generate an image for the following product idea: {product_idea}\n",
    "The prompt should include specific details about the product's appearance, setting, and any other relevant visual elements.\n",
    "The dog should be a corgi.\n",
    "\"\"\"\n",
    "\n",
    "client = OpenAI(api_key=os.getenv(\"OPENAI_API_KEY\"))\n",
    "\n",
    "image_prompt_response = client.chat.completions.create(\n",
    "    model=\"gpt-4o\",\n",
    "    messages=[\n",
    "        {\"role\": \"user\", \"content\": image_prompt_generation_prompt}\n",
    "    ],\n",
    "    temperature=0.7\n",
    ")\n",
    "\n",
    "image_prompt = image_prompt_response.choices[0].message.content\n",
    "print(\"Image Prompt:\", image_prompt)"
   ]
  },
  {
   "cell_type": "code",
   "execution_count": 12,
   "metadata": {},
   "outputs": [
    {
     "data": {
      "text/html": [
       "<img src=\"https://oaidalleapiprodscus.blob.core.windows.net/private/org-WhBD2dYvRVDmptJzXsJG5owW/user-0ng3yL15irmKs3RftyhdtFoJ/img-2gqCjrzFESnwd7Y0hXwa6fz3.png?st=2024-11-10T14%3A23%3A28Z&se=2024-11-10T16%3A23%3A28Z&sp=r&sv=2024-08-04&sr=b&rscd=inline&rsct=image/png&skoid=d505667d-d6c1-4a0a-bac7-5c84a87759f8&sktid=a48cca56-e6da-484e-a814-9c849652bcb3&skt=2024-11-10T09%3A08%3A18Z&ske=2024-11-11T09%3A08%3A18Z&sks=b&skv=2024-08-04&sig=cP98V/1VWeX2G1V5Rq1g9RAUfIc6u864AzGl%2BrLSF2g%3D\"/>"
      ],
      "text/plain": [
       "<IPython.core.display.Image object>"
      ]
     },
     "metadata": {},
     "output_type": "display_data"
    }
   ],
   "source": [
    "client = OpenAI(api_key=os.getenv(\"OPENAI_API_KEY\"))\n",
    "\n",
    "response = client.images.generate(\n",
    "    model=\"dall-e-3\",\n",
    "    prompt=image_prompt,\n",
    "    size=\"1024x1024\",\n",
    "    quality=\"standard\",\n",
    "    n=1\n",
    ")\n",
    "\n",
    "# Display image directly from URL\n",
    "display(Image(url=response.data[0].url))\n",
    "\n",
    "# Save image to a file\n",
    "image_path = \"product_image.jpg\"\n",
    "with open(image_path, \"wb\") as file:\n",
    "    file.write(requests.get(response.data[0].url).content)"
   ]
  },
  {
   "cell_type": "markdown",
   "metadata": {},
   "source": [
    "# Part 2: Persona Agents\n",
    "\n",
    "You then will create potential \"persona\" customers, decision-makers or stake-holders and \"interview\" them. Give them attributes that might be relevant to how they think and feel about your product. You should have at least four agent personas. This should be one tab in your Google Sheet labeled \"Agents\"."
   ]
  },
  {
   "cell_type": "markdown",
   "metadata": {},
   "source": [
    "## Link to Google Sheet\n",
    "\n",
    "https://docs.google.com/spreadsheets/d/1yEDaUTlUSjo89B0ANxDpxEfP-sso9Hl-gmnshqTy2vw/edit?gid=0#gid=0"
   ]
  },
  {
   "cell_type": "code",
   "execution_count": null,
   "metadata": {},
   "outputs": [],
   "source": []
  },
  {
   "cell_type": "markdown",
   "metadata": {},
   "source": [
    "# Part 3: Conduct Open-ended interviews\n",
    "Develop a reasonable rubric of topics to explore with your agents---value, safety, price, substitutes, etc. The topics are in the first column, one for each row; your agent/personas as the columns. This tab should be labeled \"Qualitative\"."
   ]
  },
  {
   "cell_type": "code",
   "execution_count": null,
   "metadata": {},
   "outputs": [],
   "source": []
  },
  {
   "cell_type": "markdown",
   "metadata": {},
   "source": [
    "# Part 4: Quantitative Survey Research\n",
    "Use your qualitative interviews to design an actual survey. Administer the survey to your agents. The survey should be mostly multiple choice questions / rating scale. Aim for 4 questions. Record their responses in a spreadsheet."
   ]
  },
  {
   "cell_type": "code",
   "execution_count": null,
   "metadata": {},
   "outputs": [],
   "source": []
  },
  {
   "cell_type": "markdown",
   "metadata": {},
   "source": [
    "# Part 5: Writeup\n",
    "Write up your recommendations given what you learned. Explain what you thought worked well about this approach (or not). Explain what next steps you might take to increase the value. Were there particular prompts that you felt led to better outcomes?"
   ]
  },
  {
   "cell_type": "markdown",
   "metadata": {},
   "source": []
  },
  {
   "cell_type": "markdown",
   "metadata": {},
   "source": [
    "# Part 6: Optional: Data Analysis\n",
    "The max grade on this assignment is 93%. For up to 1%-7% additional credit, use an LLM to generate 100 agents and have them answer the 4 quantitative questions (use an LLM for this\n",
    "as well). \n",
    "\n",
    "Pick up to 2 of your persona attributes (e.g. Age and Gender) and provide an analysis that shows statistical significance (or lack thereof) in differences answering each of your 4\n",
    "questions.\n",
    "\n",
    "Hint 1: We encourage everyone to attempt this, and rather than asking the staff we strongly recommend you first provide the full context to Claude or GPT-4o and have it explain how to do\n",
    "this efficiently. Because both of these LLMs have the ability to generate data, conduct analysis, and create graphs you should have all the tools you need.\n",
    "\n",
    "Hint 2: Here’s an example output: “Among our 100 agents surveyed, the 45 men had an ideal price point of $20 while the 55 women averaged an ideal price point of $18. Below we’ve\n",
    "included the overlaid histogram distributions and the analysis provided shows that this $2 difference is significant at the 0.05 level... {assume charts and analysis below along with a\n",
    "shareable URL to the LLMs used}”\n"
   ]
  }
 ],
 "metadata": {
  "kernelspec": {
   "display_name": "genai_venv",
   "language": "python",
   "name": "python3"
  },
  "language_info": {
   "codemirror_mode": {
    "name": "ipython",
    "version": 3
   },
   "file_extension": ".py",
   "mimetype": "text/x-python",
   "name": "python",
   "nbconvert_exporter": "python",
   "pygments_lexer": "ipython3",
   "version": "3.10.11"
  }
 },
 "nbformat": 4,
 "nbformat_minor": 2
}
